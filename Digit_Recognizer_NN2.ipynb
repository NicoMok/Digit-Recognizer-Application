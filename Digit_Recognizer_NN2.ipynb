{
 "cells": [
  {
   "cell_type": "markdown",
   "id": "0595d820-30ad-46fa-b3eb-1160fa68859a",
   "metadata": {},
   "source": [
    "# Using Neural Networks to Recognize Handwritten Digits in TensorFlow and Numpy"
   ]
  },
  {
   "cell_type": "code",
   "execution_count": 2,
   "id": "186a3cb9-3f8e-4acf-8758-d14bb2b84279",
   "metadata": {},
   "outputs": [],
   "source": [
    "import numpy as np\n",
    "import pandas as pd\n",
    "import matplotlib.pyplot as plt\n",
    "import tensorflow as tf\n",
    "from tensorflow.keras import Sequential\n",
    "from tensorflow.keras.layers import Dense"
   ]
  },
  {
   "cell_type": "markdown",
   "id": "82a01338-9d8a-4be8-bea4-f8e1ff4ee568",
   "metadata": {},
   "source": [
    "<a href = 'https://www.kaggle.com/code/midhunlalvs/digit-recognizer-mnist-dataset-with-cnn-98'>Link to dataset</a>"
   ]
  },
  {
   "cell_type": "markdown",
   "id": "3624bebc-9af1-4e7f-ada1-b80c6b07d46a",
   "metadata": {},
   "source": [
    "Purpose: To detect a handwritten digit as 0 - 9. \n",
    "<ul>\n",
    "    <li>The csv file in the dataset consists of pixel-values of 28 pixel x 28 pixel images.</li>\n",
    "    <li>Each pixel-value ranges from 0 to 255. Higher pixel-value indicates a darker pixel.</li>\n",
    "    <li>Each row represents the pixel-values of 1 image. Pixel x is located at row i and column j where i and j are integers between 0 and 27, and x = 28*i + j</li>\n",
    "    <li>For each of the 28000 images in the test set, provide a prediction of the ImageID and the digit you predict.</li>\n",
    "</ul>\n"
   ]
  },
  {
   "cell_type": "markdown",
   "id": "e6886df8-05b2-4c97-b824-400861c36583",
   "metadata": {},
   "source": [
    "#### Import the test and train data as Pandas arrays and convert them to Numpy arrays."
   ]
  },
  {
   "cell_type": "code",
   "execution_count": 3,
   "id": "0c743652-c8c4-44db-aa19-e7c10e642cdf",
   "metadata": {},
   "outputs": [
    {
     "data": {
      "text/html": [
       "<div>\n",
       "<style scoped>\n",
       "    .dataframe tbody tr th:only-of-type {\n",
       "        vertical-align: middle;\n",
       "    }\n",
       "\n",
       "    .dataframe tbody tr th {\n",
       "        vertical-align: top;\n",
       "    }\n",
       "\n",
       "    .dataframe thead th {\n",
       "        text-align: right;\n",
       "    }\n",
       "</style>\n",
       "<table border=\"1\" class=\"dataframe\">\n",
       "  <thead>\n",
       "    <tr style=\"text-align: right;\">\n",
       "      <th></th>\n",
       "      <th>pixel0</th>\n",
       "      <th>pixel1</th>\n",
       "      <th>pixel2</th>\n",
       "      <th>pixel3</th>\n",
       "      <th>pixel4</th>\n",
       "      <th>pixel5</th>\n",
       "      <th>pixel6</th>\n",
       "      <th>pixel7</th>\n",
       "      <th>pixel8</th>\n",
       "      <th>pixel9</th>\n",
       "      <th>...</th>\n",
       "      <th>pixel774</th>\n",
       "      <th>pixel775</th>\n",
       "      <th>pixel776</th>\n",
       "      <th>pixel777</th>\n",
       "      <th>pixel778</th>\n",
       "      <th>pixel779</th>\n",
       "      <th>pixel780</th>\n",
       "      <th>pixel781</th>\n",
       "      <th>pixel782</th>\n",
       "      <th>pixel783</th>\n",
       "    </tr>\n",
       "    <tr>\n",
       "      <th>label</th>\n",
       "      <th></th>\n",
       "      <th></th>\n",
       "      <th></th>\n",
       "      <th></th>\n",
       "      <th></th>\n",
       "      <th></th>\n",
       "      <th></th>\n",
       "      <th></th>\n",
       "      <th></th>\n",
       "      <th></th>\n",
       "      <th></th>\n",
       "      <th></th>\n",
       "      <th></th>\n",
       "      <th></th>\n",
       "      <th></th>\n",
       "      <th></th>\n",
       "      <th></th>\n",
       "      <th></th>\n",
       "      <th></th>\n",
       "      <th></th>\n",
       "      <th></th>\n",
       "    </tr>\n",
       "  </thead>\n",
       "  <tbody>\n",
       "    <tr>\n",
       "      <th>1</th>\n",
       "      <td>0</td>\n",
       "      <td>0</td>\n",
       "      <td>0</td>\n",
       "      <td>0</td>\n",
       "      <td>0</td>\n",
       "      <td>0</td>\n",
       "      <td>0</td>\n",
       "      <td>0</td>\n",
       "      <td>0</td>\n",
       "      <td>0</td>\n",
       "      <td>...</td>\n",
       "      <td>0</td>\n",
       "      <td>0</td>\n",
       "      <td>0</td>\n",
       "      <td>0</td>\n",
       "      <td>0</td>\n",
       "      <td>0</td>\n",
       "      <td>0</td>\n",
       "      <td>0</td>\n",
       "      <td>0</td>\n",
       "      <td>0</td>\n",
       "    </tr>\n",
       "    <tr>\n",
       "      <th>0</th>\n",
       "      <td>0</td>\n",
       "      <td>0</td>\n",
       "      <td>0</td>\n",
       "      <td>0</td>\n",
       "      <td>0</td>\n",
       "      <td>0</td>\n",
       "      <td>0</td>\n",
       "      <td>0</td>\n",
       "      <td>0</td>\n",
       "      <td>0</td>\n",
       "      <td>...</td>\n",
       "      <td>0</td>\n",
       "      <td>0</td>\n",
       "      <td>0</td>\n",
       "      <td>0</td>\n",
       "      <td>0</td>\n",
       "      <td>0</td>\n",
       "      <td>0</td>\n",
       "      <td>0</td>\n",
       "      <td>0</td>\n",
       "      <td>0</td>\n",
       "    </tr>\n",
       "    <tr>\n",
       "      <th>1</th>\n",
       "      <td>0</td>\n",
       "      <td>0</td>\n",
       "      <td>0</td>\n",
       "      <td>0</td>\n",
       "      <td>0</td>\n",
       "      <td>0</td>\n",
       "      <td>0</td>\n",
       "      <td>0</td>\n",
       "      <td>0</td>\n",
       "      <td>0</td>\n",
       "      <td>...</td>\n",
       "      <td>0</td>\n",
       "      <td>0</td>\n",
       "      <td>0</td>\n",
       "      <td>0</td>\n",
       "      <td>0</td>\n",
       "      <td>0</td>\n",
       "      <td>0</td>\n",
       "      <td>0</td>\n",
       "      <td>0</td>\n",
       "      <td>0</td>\n",
       "    </tr>\n",
       "    <tr>\n",
       "      <th>4</th>\n",
       "      <td>0</td>\n",
       "      <td>0</td>\n",
       "      <td>0</td>\n",
       "      <td>0</td>\n",
       "      <td>0</td>\n",
       "      <td>0</td>\n",
       "      <td>0</td>\n",
       "      <td>0</td>\n",
       "      <td>0</td>\n",
       "      <td>0</td>\n",
       "      <td>...</td>\n",
       "      <td>0</td>\n",
       "      <td>0</td>\n",
       "      <td>0</td>\n",
       "      <td>0</td>\n",
       "      <td>0</td>\n",
       "      <td>0</td>\n",
       "      <td>0</td>\n",
       "      <td>0</td>\n",
       "      <td>0</td>\n",
       "      <td>0</td>\n",
       "    </tr>\n",
       "    <tr>\n",
       "      <th>0</th>\n",
       "      <td>0</td>\n",
       "      <td>0</td>\n",
       "      <td>0</td>\n",
       "      <td>0</td>\n",
       "      <td>0</td>\n",
       "      <td>0</td>\n",
       "      <td>0</td>\n",
       "      <td>0</td>\n",
       "      <td>0</td>\n",
       "      <td>0</td>\n",
       "      <td>...</td>\n",
       "      <td>0</td>\n",
       "      <td>0</td>\n",
       "      <td>0</td>\n",
       "      <td>0</td>\n",
       "      <td>0</td>\n",
       "      <td>0</td>\n",
       "      <td>0</td>\n",
       "      <td>0</td>\n",
       "      <td>0</td>\n",
       "      <td>0</td>\n",
       "    </tr>\n",
       "  </tbody>\n",
       "</table>\n",
       "<p>5 rows × 784 columns</p>\n",
       "</div>"
      ],
      "text/plain": [
       "       pixel0  pixel1  pixel2  pixel3  pixel4  pixel5  pixel6  pixel7  pixel8  \\\n",
       "label                                                                           \n",
       "1           0       0       0       0       0       0       0       0       0   \n",
       "0           0       0       0       0       0       0       0       0       0   \n",
       "1           0       0       0       0       0       0       0       0       0   \n",
       "4           0       0       0       0       0       0       0       0       0   \n",
       "0           0       0       0       0       0       0       0       0       0   \n",
       "\n",
       "       pixel9  ...  pixel774  pixel775  pixel776  pixel777  pixel778  \\\n",
       "label          ...                                                     \n",
       "1           0  ...         0         0         0         0         0   \n",
       "0           0  ...         0         0         0         0         0   \n",
       "1           0  ...         0         0         0         0         0   \n",
       "4           0  ...         0         0         0         0         0   \n",
       "0           0  ...         0         0         0         0         0   \n",
       "\n",
       "       pixel779  pixel780  pixel781  pixel782  pixel783  \n",
       "label                                                    \n",
       "1             0         0         0         0         0  \n",
       "0             0         0         0         0         0  \n",
       "1             0         0         0         0         0  \n",
       "4             0         0         0         0         0  \n",
       "0             0         0         0         0         0  \n",
       "\n",
       "[5 rows x 784 columns]"
      ]
     },
     "execution_count": 3,
     "metadata": {},
     "output_type": "execute_result"
    }
   ],
   "source": [
    "path = 'train.csv'\n",
    "DFNN = pd.read_csv(path, index_col=0, header=0)\n",
    "DFNN.head()"
   ]
  },
  {
   "cell_type": "markdown",
   "id": "6c1d4042-b786-4ce8-9844-ba1bdc74d560",
   "metadata": {},
   "source": [
    "X-training features - convert these into Numpy arrays:"
   ]
  },
  {
   "cell_type": "code",
   "execution_count": 4,
   "id": "93ccb49e-e13a-4280-b7d0-0320f05eb1a6",
   "metadata": {},
   "outputs": [
    {
     "data": {
      "text/plain": [
       "(42000, 784)"
      ]
     },
     "execution_count": 4,
     "metadata": {},
     "output_type": "execute_result"
    }
   ],
   "source": [
    "X_train = DFNN.to_numpy()\n",
    "X_train.shape"
   ]
  },
  {
   "cell_type": "markdown",
   "id": "e42a7ce3-fb10-4b57-9d7b-62276e978457",
   "metadata": {},
   "source": [
    "Y-training values (the actual digit written):"
   ]
  },
  {
   "cell_type": "code",
   "execution_count": 5,
   "id": "2f376400-c33a-4236-aec0-64d056ddce74",
   "metadata": {},
   "outputs": [
    {
     "data": {
      "text/plain": [
       "array([1, 0, 1, ..., 7, 6, 9], dtype=int64)"
      ]
     },
     "execution_count": 5,
     "metadata": {},
     "output_type": "execute_result"
    }
   ],
   "source": [
    "Y_train = DFNN.index.values\n",
    "Y_train"
   ]
  },
  {
   "cell_type": "markdown",
   "id": "00d7f6e8-4202-4d94-9575-03caecc82736",
   "metadata": {},
   "source": [
    "Split the training data into a train-test split."
   ]
  },
  {
   "cell_type": "code",
   "execution_count": 6,
   "id": "17965390-04ca-4890-8490-11e6c9c76bd8",
   "metadata": {},
   "outputs": [],
   "source": [
    "from sklearn.model_selection import train_test_split\n",
    "X_training, X_test, Y_training, Y_test = train_test_split(X_train, Y_train, test_size=0.1, random_state=0)"
   ]
  },
  {
   "cell_type": "code",
   "execution_count": 7,
   "id": "5937d493-e8bd-45c6-a4f5-7253bf2e97d6",
   "metadata": {},
   "outputs": [
    {
     "data": {
      "text/plain": [
       "(37800, 784)"
      ]
     },
     "execution_count": 7,
     "metadata": {},
     "output_type": "execute_result"
    }
   ],
   "source": [
    "X_training.shape"
   ]
  },
  {
   "cell_type": "code",
   "execution_count": 8,
   "id": "298f831c-1125-4094-9b2c-8b4c51e183e7",
   "metadata": {},
   "outputs": [
    {
     "data": {
      "text/plain": [
       "(4200, 784)"
      ]
     },
     "execution_count": 8,
     "metadata": {},
     "output_type": "execute_result"
    }
   ],
   "source": [
    "X_test.shape"
   ]
  },
  {
   "cell_type": "markdown",
   "id": "137fab67-bddd-47eb-a7e8-4961e4560a91",
   "metadata": {},
   "source": [
    "The features in 'test.csv' - convert this into a Numpy array too:"
   ]
  },
  {
   "cell_type": "code",
   "execution_count": 9,
   "id": "d5d55be7-42d3-41d8-a0c1-d986e9f84f15",
   "metadata": {},
   "outputs": [
    {
     "data": {
      "text/html": [
       "<div>\n",
       "<style scoped>\n",
       "    .dataframe tbody tr th:only-of-type {\n",
       "        vertical-align: middle;\n",
       "    }\n",
       "\n",
       "    .dataframe tbody tr th {\n",
       "        vertical-align: top;\n",
       "    }\n",
       "\n",
       "    .dataframe thead th {\n",
       "        text-align: right;\n",
       "    }\n",
       "</style>\n",
       "<table border=\"1\" class=\"dataframe\">\n",
       "  <thead>\n",
       "    <tr style=\"text-align: right;\">\n",
       "      <th></th>\n",
       "      <th>pixel0</th>\n",
       "      <th>pixel1</th>\n",
       "      <th>pixel2</th>\n",
       "      <th>pixel3</th>\n",
       "      <th>pixel4</th>\n",
       "      <th>pixel5</th>\n",
       "      <th>pixel6</th>\n",
       "      <th>pixel7</th>\n",
       "      <th>pixel8</th>\n",
       "      <th>pixel9</th>\n",
       "      <th>...</th>\n",
       "      <th>pixel774</th>\n",
       "      <th>pixel775</th>\n",
       "      <th>pixel776</th>\n",
       "      <th>pixel777</th>\n",
       "      <th>pixel778</th>\n",
       "      <th>pixel779</th>\n",
       "      <th>pixel780</th>\n",
       "      <th>pixel781</th>\n",
       "      <th>pixel782</th>\n",
       "      <th>pixel783</th>\n",
       "    </tr>\n",
       "  </thead>\n",
       "  <tbody>\n",
       "    <tr>\n",
       "      <th>0</th>\n",
       "      <td>0</td>\n",
       "      <td>0</td>\n",
       "      <td>0</td>\n",
       "      <td>0</td>\n",
       "      <td>0</td>\n",
       "      <td>0</td>\n",
       "      <td>0</td>\n",
       "      <td>0</td>\n",
       "      <td>0</td>\n",
       "      <td>0</td>\n",
       "      <td>...</td>\n",
       "      <td>0</td>\n",
       "      <td>0</td>\n",
       "      <td>0</td>\n",
       "      <td>0</td>\n",
       "      <td>0</td>\n",
       "      <td>0</td>\n",
       "      <td>0</td>\n",
       "      <td>0</td>\n",
       "      <td>0</td>\n",
       "      <td>0</td>\n",
       "    </tr>\n",
       "    <tr>\n",
       "      <th>1</th>\n",
       "      <td>0</td>\n",
       "      <td>0</td>\n",
       "      <td>0</td>\n",
       "      <td>0</td>\n",
       "      <td>0</td>\n",
       "      <td>0</td>\n",
       "      <td>0</td>\n",
       "      <td>0</td>\n",
       "      <td>0</td>\n",
       "      <td>0</td>\n",
       "      <td>...</td>\n",
       "      <td>0</td>\n",
       "      <td>0</td>\n",
       "      <td>0</td>\n",
       "      <td>0</td>\n",
       "      <td>0</td>\n",
       "      <td>0</td>\n",
       "      <td>0</td>\n",
       "      <td>0</td>\n",
       "      <td>0</td>\n",
       "      <td>0</td>\n",
       "    </tr>\n",
       "    <tr>\n",
       "      <th>2</th>\n",
       "      <td>0</td>\n",
       "      <td>0</td>\n",
       "      <td>0</td>\n",
       "      <td>0</td>\n",
       "      <td>0</td>\n",
       "      <td>0</td>\n",
       "      <td>0</td>\n",
       "      <td>0</td>\n",
       "      <td>0</td>\n",
       "      <td>0</td>\n",
       "      <td>...</td>\n",
       "      <td>0</td>\n",
       "      <td>0</td>\n",
       "      <td>0</td>\n",
       "      <td>0</td>\n",
       "      <td>0</td>\n",
       "      <td>0</td>\n",
       "      <td>0</td>\n",
       "      <td>0</td>\n",
       "      <td>0</td>\n",
       "      <td>0</td>\n",
       "    </tr>\n",
       "    <tr>\n",
       "      <th>3</th>\n",
       "      <td>0</td>\n",
       "      <td>0</td>\n",
       "      <td>0</td>\n",
       "      <td>0</td>\n",
       "      <td>0</td>\n",
       "      <td>0</td>\n",
       "      <td>0</td>\n",
       "      <td>0</td>\n",
       "      <td>0</td>\n",
       "      <td>0</td>\n",
       "      <td>...</td>\n",
       "      <td>0</td>\n",
       "      <td>0</td>\n",
       "      <td>0</td>\n",
       "      <td>0</td>\n",
       "      <td>0</td>\n",
       "      <td>0</td>\n",
       "      <td>0</td>\n",
       "      <td>0</td>\n",
       "      <td>0</td>\n",
       "      <td>0</td>\n",
       "    </tr>\n",
       "    <tr>\n",
       "      <th>4</th>\n",
       "      <td>0</td>\n",
       "      <td>0</td>\n",
       "      <td>0</td>\n",
       "      <td>0</td>\n",
       "      <td>0</td>\n",
       "      <td>0</td>\n",
       "      <td>0</td>\n",
       "      <td>0</td>\n",
       "      <td>0</td>\n",
       "      <td>0</td>\n",
       "      <td>...</td>\n",
       "      <td>0</td>\n",
       "      <td>0</td>\n",
       "      <td>0</td>\n",
       "      <td>0</td>\n",
       "      <td>0</td>\n",
       "      <td>0</td>\n",
       "      <td>0</td>\n",
       "      <td>0</td>\n",
       "      <td>0</td>\n",
       "      <td>0</td>\n",
       "    </tr>\n",
       "  </tbody>\n",
       "</table>\n",
       "<p>5 rows × 784 columns</p>\n",
       "</div>"
      ],
      "text/plain": [
       "   pixel0  pixel1  pixel2  pixel3  pixel4  pixel5  pixel6  pixel7  pixel8  \\\n",
       "0       0       0       0       0       0       0       0       0       0   \n",
       "1       0       0       0       0       0       0       0       0       0   \n",
       "2       0       0       0       0       0       0       0       0       0   \n",
       "3       0       0       0       0       0       0       0       0       0   \n",
       "4       0       0       0       0       0       0       0       0       0   \n",
       "\n",
       "   pixel9  ...  pixel774  pixel775  pixel776  pixel777  pixel778  pixel779  \\\n",
       "0       0  ...         0         0         0         0         0         0   \n",
       "1       0  ...         0         0         0         0         0         0   \n",
       "2       0  ...         0         0         0         0         0         0   \n",
       "3       0  ...         0         0         0         0         0         0   \n",
       "4       0  ...         0         0         0         0         0         0   \n",
       "\n",
       "   pixel780  pixel781  pixel782  pixel783  \n",
       "0         0         0         0         0  \n",
       "1         0         0         0         0  \n",
       "2         0         0         0         0  \n",
       "3         0         0         0         0  \n",
       "4         0         0         0         0  \n",
       "\n",
       "[5 rows x 784 columns]"
      ]
     },
     "execution_count": 9,
     "metadata": {},
     "output_type": "execute_result"
    }
   ],
   "source": [
    "path = 'test.csv'\n",
    "DFTNN = pd.read_csv(path, index_col=None, header=0)\n",
    "DFTNN.head()"
   ]
  },
  {
   "cell_type": "code",
   "execution_count": 10,
   "id": "75c6e3ae-04be-4817-8260-274fd04ab607",
   "metadata": {},
   "outputs": [
    {
     "data": {
      "text/plain": [
       "(28000, 784)"
      ]
     },
     "execution_count": 10,
     "metadata": {},
     "output_type": "execute_result"
    }
   ],
   "source": [
    "X_final = DFTNN.to_numpy()\n",
    "X_final.shape"
   ]
  },
  {
   "cell_type": "markdown",
   "id": "928baa91-d277-480f-974b-ece055ec758e",
   "metadata": {},
   "source": [
    "The number of columns (pixels) is 784. This makes sense: 28*28 = 784."
   ]
  },
  {
   "cell_type": "markdown",
   "id": "a6c3a20e-5b31-4db8-b643-26751ea5b33c",
   "metadata": {},
   "source": [
    "#### Plot the handdrawn images from the training and testing data sets."
   ]
  },
  {
   "cell_type": "code",
   "execution_count": 11,
   "id": "5c1175fe-948e-4a6c-a27d-6f4631b5fc2b",
   "metadata": {},
   "outputs": [
    {
     "data": {
      "image/png": "[encoded data removed]",
      "text/plain": [
       "<Figure size 1000x500 with 10 Axes>"
      ]
     },
     "metadata": {},
     "output_type": "display_data"
    }
   ],
   "source": [
    "# Create a figure, set the figure height and size in inches.\n",
    "fig = plt.figure(figsize=(10, 5))\n",
    "fig.suptitle('Handwritten Digits')\n",
    "\n",
    "for i in range(10):\n",
    "    # subplot(nrows, ncols, index, **kwargs)\n",
    "    # Creates subplots for the figure. There will be nrows of rows and ncols of columns.\n",
    "    # index starts at 1 in the upper left corner and increases to the right. Note that 1-based indexing is used!\n",
    "    ax = plt.subplot(2, 5, i + 1)\n",
    "\n",
    "    # imshow(X, cmap)\n",
    "    # Displays the data as an image. The cmap will tell MATPLOTLIB what the data represents.\n",
    "    # If we specify cmap='gray', it'll know that the data is a matrix taking values from 0 to 255 and that each\n",
    "    # value represents a grayscale pixel intensity.\n",
    "    plt.imshow(X_training[i].reshape(28, 28), cmap='gray')\n",
    "\n",
    "    # Remove the axes.\n",
    "    plt.axis('off')\n",
    "\n",
    "plt.show()"
   ]
  },
  {
   "cell_type": "markdown",
   "id": "fd161ab7-0fb0-4429-9716-6c64f85b8c0a",
   "metadata": {},
   "source": [
    "### Use TensorFlow to Build and Train a Neural Network."
   ]
  },
  {
   "cell_type": "code",
   "execution_count": 12,
   "id": "785d7e16-3b78-473c-92bf-c5ce28c6821b",
   "metadata": {},
   "outputs": [],
   "source": [
    "from tensorflow.keras import Sequential\n",
    "from tensorflow.keras.layers import Dense"
   ]
  },
  {
   "cell_type": "markdown",
   "id": "0bd1a0b7-8a99-4440-beba-ac3169e310a7",
   "metadata": {},
   "source": [
    "The neural network will have 150 units in the first hidden layer, 150 in the second layer, and 10 in the output layer (corresponding to the number of digits available). \n",
    "<ul>\n",
    "    <li>First and second layers: ReLU activation functions will be used.</li>\n",
    "    <li>Output layer: Softmax activation function will be used.</li>\n",
    "    <li>In our neural network, we'll call a linear activation function in the output layer.</li>\n",
    "    <li>Idea: we'll use a linear activation function to train the output layer. When specifying the loss function in the <code>model.compile</code> line, we'll tell TensorFlow that we don't intend to normalize the output values from the output layer by specifying <code>from_logits=True</code>.</li>\n",
    "    <li>Then we'll predict y-values using the neural network and transform the y-values using the softmax function to get the probabilities of each digit being displayed.</li>\n",
    "</ul>"
   ]
  },
  {
   "cell_type": "markdown",
   "id": "140515a3-748f-4e7a-8a98-0f900d550ad7",
   "metadata": {},
   "source": [
    "Build a neural network model using the sequential function."
   ]
  },
  {
   "cell_type": "code",
   "execution_count": 13,
   "id": "c8da3e83-06d7-442f-8667-2111d51d843f",
   "metadata": {},
   "outputs": [],
   "source": [
    "model = Sequential([\n",
    "    tf.keras.layers.Dense(units=150, activation='relu'),\n",
    "    tf.keras.layers.Dense(units=150, activation='relu'),\n",
    "    tf.keras.layers.Dense(units=10, activation='linear')\n",
    "])"
   ]
  },
  {
   "cell_type": "markdown",
   "id": "4ad077c8-19f9-4af3-b40b-8006bf80e35a",
   "metadata": {},
   "source": [
    "Instantiate the model with the X_training features."
   ]
  },
  {
   "cell_type": "code",
   "execution_count": 14,
   "id": "c4e5ea69-831f-4288-be10-4d8fef34e35b",
   "metadata": {},
   "outputs": [
    {
     "name": "stdout",
     "output_type": "stream",
     "text": [
      "1182/1182 [==============================] - 3s 2ms/step\n"
     ]
    },
    {
     "data": {
      "text/plain": [
       "array([[  69.57104   , -186.29515   ,  -44.922016  , ...,   87.3886    ,\n",
       "          -0.65137404,   55.23962   ],\n",
       "       [-119.69549   , -223.412     ,   -4.384064  , ...,   41.127384  ,\n",
       "           5.863239  ,  121.53763   ],\n",
       "       [ -42.03684   , -205.11821   ,  -25.875242  , ...,   35.208252  ,\n",
       "         123.26449   ,  -26.352715  ],\n",
       "       ...,\n",
       "       [ -39.548515  ,  -62.161324  ,  -71.36933   , ...,   38.460827  ,\n",
       "          35.26      ,   -3.460759  ],\n",
       "       [ -90.799675  , -160.18509   ,  -95.72786   , ...,  -24.34122   ,\n",
       "          30.733639  ,   -8.387949  ],\n",
       "       [ -61.002216  , -103.48857   ,  -18.429058  , ...,  -20.513445  ,\n",
       "          62.831642  ,  -35.964367  ]], dtype=float32)"
      ]
     },
     "execution_count": 14,
     "metadata": {},
     "output_type": "execute_result"
    }
   ],
   "source": [
    "model.predict(X_training)"
   ]
  },
  {
   "cell_type": "markdown",
   "id": "ddf4ff18-57cd-4093-b193-1ce8fb3b09e2",
   "metadata": {},
   "source": [
    "Then create the corresponding loss function using TensorFlow.\n",
    "<font color='red'>Question: Explanation of the Adam optimizer needed - I'll check this up later.</font>"
   ]
  },
  {
   "cell_type": "code",
   "execution_count": 15,
   "id": "1d5333bc-4b70-4103-9754-736f1ce7bae4",
   "metadata": {},
   "outputs": [],
   "source": [
    "model.compile(loss=tf.keras.losses.SparseCategoricalCrossentropy(from_logits=True),\n",
    "    optimizer=tf.keras.optimizers.Adam(0.001),)"
   ]
  },
  {
   "cell_type": "markdown",
   "id": "ec44a577-70e1-481e-ba58-f3e7c7e7e4d0",
   "metadata": {},
   "source": [
    "Train the model using 20 epochs. Remember that there are 37800 training examples. Tensorflow divides the 37800 examples into batches of 32 training examples. Each epoch will therefore require 37800/32 = 1182 iterations of gradient descent to cover all the examples."
   ]
  },
  {
   "cell_type": "code",
   "execution_count": 16,
   "id": "0e27642a-6fc2-43ca-a754-7f063eddd982",
   "metadata": {},
   "outputs": [
    {
     "name": "stdout",
     "output_type": "stream",
     "text": [
      "Epoch 1/20\n",
      "1182/1182 [==============================] - 6s 4ms/step - loss: 2.2972\n",
      "Epoch 2/20\n",
      "1182/1182 [==============================] - 5s 4ms/step - loss: 0.4878\n",
      "Epoch 3/20\n",
      "1182/1182 [==============================] - 5s 4ms/step - loss: 0.2958\n",
      "Epoch 4/20\n",
      "1182/1182 [==============================] - 5s 4ms/step - loss: 0.2189\n",
      "Epoch 5/20\n",
      "1182/1182 [==============================] - 5s 4ms/step - loss: 0.1671\n",
      "Epoch 6/20\n",
      "1182/1182 [==============================] - 5s 4ms/step - loss: 0.1569\n",
      "Epoch 7/20\n",
      "1182/1182 [==============================] - 5s 4ms/step - loss: 0.1345\n",
      "Epoch 8/20\n",
      "1182/1182 [==============================] - 5s 4ms/step - loss: 0.1237\n",
      "Epoch 9/20\n",
      "1182/1182 [==============================] - 4s 4ms/step - loss: 0.1123\n",
      "Epoch 10/20\n",
      "1182/1182 [==============================] - 4s 4ms/step - loss: 0.1083\n",
      "Epoch 11/20\n",
      "1182/1182 [==============================] - 5s 4ms/step - loss: 0.0951\n",
      "Epoch 12/20\n",
      "1182/1182 [==============================] - 5s 4ms/step - loss: 0.0998\n",
      "Epoch 13/20\n",
      "1182/1182 [==============================] - 5s 4ms/step - loss: 0.0876\n",
      "Epoch 14/20\n",
      "1182/1182 [==============================] - 5s 4ms/step - loss: 0.0934\n",
      "Epoch 15/20\n",
      "1182/1182 [==============================] - 5s 4ms/step - loss: 0.0784\n",
      "Epoch 16/20\n",
      "1182/1182 [==============================] - 5s 4ms/step - loss: 0.0753\n",
      "Epoch 17/20\n",
      "1182/1182 [==============================] - 5s 4ms/step - loss: 0.0762\n",
      "Epoch 18/20\n",
      "1182/1182 [==============================] - 5s 4ms/step - loss: 0.0745\n",
      "Epoch 19/20\n",
      "1182/1182 [==============================] - 5s 4ms/step - loss: 0.0670\n",
      "Epoch 20/20\n",
      "1182/1182 [==============================] - 5s 4ms/step - loss: 0.0659\n",
      "The model has been successfully trained\n"
     ]
    }
   ],
   "source": [
    "model.fit(X_training, Y_training, epochs=20)\n",
    "print('The model has been successfully trained')"
   ]
  },
  {
   "cell_type": "code",
   "execution_count": 17,
   "id": "60c120a8-502a-4691-a0dc-41bce8ecf3a8",
   "metadata": {},
   "outputs": [],
   "source": [
    "# Save the model.\n",
    "model.save('NN_model.keras')"
   ]
  },
  {
   "cell_type": "markdown",
   "id": "38077518-e5c1-4af9-a514-b82ab7cc709f",
   "metadata": {},
   "source": [
    "Now let's check the results. Enter the X_test feature into the model and determine the corresponding values."
   ]
  },
  {
   "cell_type": "code",
   "execution_count": 42,
   "id": "23b3cc74-5a87-4bd6-90b5-114dabd55102",
   "metadata": {},
   "outputs": [
    {
     "name": "stdout",
     "output_type": "stream",
     "text": [
      "132/132 [==============================] - 0s 2ms/step\n"
     ]
    }
   ],
   "source": [
    "y = model.predict(X_test)"
   ]
  },
  {
   "cell_type": "code",
   "execution_count": 43,
   "id": "7aa1e315-d1d7-4c5a-ae12-6e81dd6fb7bd",
   "metadata": {},
   "outputs": [
    {
     "data": {
      "text/plain": [
       "(4200, 10)"
      ]
     },
     "execution_count": 43,
     "metadata": {},
     "output_type": "execute_result"
    }
   ],
   "source": [
    "y.shape"
   ]
  },
  {
   "cell_type": "code",
   "execution_count": 44,
   "id": "821b8f78-1331-4aa8-bca8-3c002fb40e71",
   "metadata": {},
   "outputs": [
    {
     "data": {
      "text/plain": [
       "array([[  16.719849 ,   -1.7941319,   39.112118 ,  101.30544  ,\n",
       "         -19.939154 ,   35.2294   , -169.00238  ,   19.273045 ,\n",
       "          40.51945  ,   42.811672 ],\n",
       "       [ -22.244663 ,  -51.109707 ,  -12.591636 ,  -43.372677 ,\n",
       "         -19.483686 ,  -35.499226 ,   58.879177 ,  -48.34849  ,\n",
       "          18.173857 ,  -71.49368  ],\n",
       "       [  -0.8846595,  -22.606201 ,   -8.92456  ,   16.330317 ,\n",
       "          15.187993 ,   15.65463  ,  -25.295584 ,    8.784433 ,\n",
       "           6.272527 ,   29.705187 ],\n",
       "       [ -19.891277 ,  -56.163944 ,  -24.095058 ,   19.16636  ,\n",
       "         -47.673016 ,   50.661224 ,   -4.7012534,  -34.20654  ,\n",
       "          -1.0408466,    1.5378271],\n",
       "       [ -11.333088 ,  -29.886478 ,   -5.2741957,  -35.122192 ,\n",
       "          -2.374238 ,   -7.2335258,   45.84124  ,  -43.841988 ,\n",
       "          10.995174 ,  -37.72202  ]], dtype=float32)"
      ]
     },
     "execution_count": 44,
     "metadata": {},
     "output_type": "execute_result"
    }
   ],
   "source": [
    "y[0:5,:]"
   ]
  },
  {
   "cell_type": "markdown",
   "id": "8d54e9c5-f847-4a7e-a00b-2fcf3f2af08b",
   "metadata": {},
   "source": [
    "Notice that the values above aren't probabilities. We'll have to convert these into probabilities using the softmax function:"
   ]
  },
  {
   "cell_type": "code",
   "execution_count": 45,
   "id": "b4d9debf-a6d9-4702-bae9-49fbdbe4275d",
   "metadata": {},
   "outputs": [],
   "source": [
    "sm = tf.nn.softmax(y).numpy()"
   ]
  },
  {
   "cell_type": "code",
   "execution_count": 46,
   "id": "689e2d5f-aaf6-4877-850b-98fe595c8387",
   "metadata": {},
   "outputs": [
    {
     "data": {
      "text/plain": [
       "(4200, 10)"
      ]
     },
     "execution_count": 46,
     "metadata": {},
     "output_type": "execute_result"
    }
   ],
   "source": [
    "sm.shape"
   ]
  },
  {
   "cell_type": "code",
   "execution_count": 47,
   "id": "0f958731-0e0e-4cdc-9dfa-a9be761f1f17",
   "metadata": {},
   "outputs": [
    {
     "data": {
      "text/plain": [
       "array([[1.8405312e-37, 0.0000000e+00, 9.7674702e-28, 1.0000000e+00,\n",
       "        0.0000000e+00, 2.0115902e-29, 0.0000000e+00, 2.3647420e-36,\n",
       "        3.9900585e-27, 3.9489191e-26],\n",
       "       [5.8662937e-36, 0.0000000e+00, 9.1331720e-32, 0.0000000e+00,\n",
       "        9.2777269e-35, 0.0000000e+00, 1.0000000e+00, 0.0000000e+00,\n",
       "        2.0984718e-18, 0.0000000e+00],\n",
       "       [5.1879718e-14, 1.9118438e-23, 1.6722971e-17, 1.5536973e-06,\n",
       "        4.9574874e-07, 7.9053171e-07, 1.2985767e-24, 8.2078794e-10,\n",
       "        6.6577001e-11, 9.9999714e-01],\n",
       "       [2.2878955e-31, 0.0000000e+00, 3.4178832e-33, 2.0987203e-14,\n",
       "        0.0000000e+00, 1.0000000e+00, 9.0444471e-25, 1.3880239e-37,\n",
       "        3.5162146e-23, 4.6342496e-22],\n",
       "       [1.4774232e-25, 1.2938029e-33, 6.3219048e-23, 6.8869684e-36,\n",
       "        1.1489058e-21, 8.9109247e-24, 1.0000000e+00, 0.0000000e+00,\n",
       "        7.3543789e-16, 5.1160645e-37]], dtype=float32)"
      ]
     },
     "execution_count": 47,
     "metadata": {},
     "output_type": "execute_result"
    }
   ],
   "source": [
    "sm[0:5,:]"
   ]
  },
  {
   "cell_type": "markdown",
   "id": "9562f772-db44-43e7-8486-cde9df2add7c",
   "metadata": {},
   "source": [
    "The matrix sm contains the probabilities that each training example represents a given digit. For instance:\n",
    "<code>np.array([[0 1 0 0 0 0 0 0 0 0], [1 0 0 0 0 0 0 0 0 0]])</code>\n",
    "The first training example is a 1, the second is a 0."
   ]
  },
  {
   "cell_type": "markdown",
   "id": "5ed3db8f-bb09-4901-bd82-695cfdb7a67e",
   "metadata": {},
   "source": [
    "For each row in the numpy array sm, let's determine the index of the '1' value."
   ]
  },
  {
   "cell_type": "code",
   "execution_count": 32,
   "id": "f675954a-4f61-42d2-998b-a9e200728fe5",
   "metadata": {},
   "outputs": [
    {
     "data": {
      "text/plain": [
       "(4200,)"
      ]
     },
     "execution_count": 32,
     "metadata": {},
     "output_type": "execute_result"
    }
   ],
   "source": [
    "labels = np.argmax(sm, axis=1)\n",
    "labels.shape"
   ]
  },
  {
   "cell_type": "code",
   "execution_count": 48,
   "id": "2ffe29cf-6194-4015-adf0-f0d7d19d563b",
   "metadata": {},
   "outputs": [
    {
     "data": {
      "text/plain": [
       "array([3, 6, 9, ..., 9, 8, 7], dtype=int64)"
      ]
     },
     "execution_count": 48,
     "metadata": {},
     "output_type": "execute_result"
    }
   ],
   "source": [
    "labels"
   ]
  },
  {
   "cell_type": "markdown",
   "id": "401ab6fc-0245-463f-8799-41aa128dd789",
   "metadata": {},
   "source": [
    "Let's compare the predicted values with the handwritten digits."
   ]
  },
  {
   "cell_type": "code",
   "execution_count": 38,
   "id": "60cc6f56-a50b-4334-b7c9-c0c7b329d92d",
   "metadata": {},
   "outputs": [
    {
     "data": {
      "image/png": "[encoded data removed]",
      "text/plain": [
       "<Figure size 2000x600 with 10 Axes>"
      ]
     },
     "metadata": {},
     "output_type": "display_data"
    }
   ],
   "source": [
    "# Set the size of the figure.\n",
    "fig = plt.figure(figsize=(20, 6))\n",
    "list = np.arange(0,10,1)\n",
    "\n",
    "# Set the title of the figure.\n",
    "fig.suptitle(\"Handwritten Digits, With Neural Network Predictions Above Each Image\")\n",
    "for i in list:\n",
    "    # subplot(nrows, ncols, index, **kwargs)\n",
    "    # Creates subplots for the figure. There will be nrows of rows and ncols of columns.\n",
    "    # index starts at 1 in the upper left corner and increases to the right. Note that 1-based indexing is used!\n",
    "    plt.subplot(2, 5, i+1)\n",
    "\n",
    "    # imshow(X, cmap)\n",
    "    # Displays the data as an image. The cmap will tell MATPLOTLIB what the data represents.\n",
    "    # If we specify cmap='gray', it'll know that the data is a matrix taking values from 0 to 255 and that each\n",
    "    # value represents a grayscale pixel intensity.\n",
    "    plt.imshow(X_test[i+20].reshape(28,28), cmap='gray')\n",
    "    plt.title(f'Model: {labels[i+20]}, Test data: {Y_test[i+20]}')\n",
    "\n",
    "    # Remove the axes.\n",
    "    plt.axis('off')\n",
    "\n",
    "plt.show()"
   ]
  },
  {
   "cell_type": "code",
   "execution_count": 49,
   "id": "9ea3064b-c19b-4796-b0c0-6aa6e077c0ea",
   "metadata": {},
   "outputs": [
    {
     "name": "stdout",
     "output_type": "stream",
     "text": [
      "Number of test examples guessed incorrectly:  156\n",
      "Number of training examples guessed correctly:  4044\n",
      "Percent accuracy: 96.28571428571429 %\n"
     ]
    }
   ],
   "source": [
    "print(\"Number of test examples guessed incorrectly: \", (Y_test != labels).sum())\n",
    "print(\"Number of training examples guessed correctly: \", (Y_test == labels).sum())\n",
    "print(f'Percent accuracy: {(((Y_test == labels).sum())/((Y_test == labels).sum()+(Y_test != labels).sum())*100)} %')"
   ]
  },
  {
   "cell_type": "markdown",
   "id": "4062c5f9-9b0f-4369-8a7d-e6057c94b945",
   "metadata": {},
   "source": [
    "Therefore our neural network is able to recognize digits at approximately 96% accuracy."
   ]
  },
  {
   "cell_type": "markdown",
   "id": "0f7e58ac-8443-4faf-849a-fa78589aeabf",
   "metadata": {},
   "source": [
    "### Implement the Neural Network in a GUI"
   ]
  },
  {
   "cell_type": "markdown",
   "id": "1127ed5d-43bc-4de5-8ec2-0f1490c4e8aa",
   "metadata": {},
   "source": [
    "Load the neural network model here."
   ]
  },
  {
   "cell_type": "code",
   "execution_count": 1,
   "id": "93fd5326-9e57-401a-b335-28e334782b95",
   "metadata": {},
   "outputs": [
    {
     "name": "stdout",
     "output_type": "stream",
     "text": [
      "Model successfully loaded\n"
     ]
    }
   ],
   "source": [
    "from keras.models import load_model\n",
    "model = load_model('NN_model.keras')\n",
    "print('Model successfully loaded')"
   ]
  },
  {
   "cell_type": "code",
   "execution_count": 2,
   "id": "b2df026a-f168-417e-a722-bdf6968072bd",
   "metadata": {},
   "outputs": [],
   "source": [
    "import os\n",
    "import PIL\n",
    "import tkinter as tk\n",
    "from PIL import Image, ImageDraw, ImageGrab "
   ]
  },
  {
   "cell_type": "markdown",
   "id": "b9f9810e-e0cc-498d-ac7e-7e4cd6240254",
   "metadata": {},
   "source": [
    "##### A Brief Overview of GUI's\n",
    "A graphical user interface is a means for users to interact with the system using icons, menus and a mouse. Simple example: opening an app on your computer. You don't have to type in commands - you just find the icon, click on it for it to open."
   ]
  },
  {
   "cell_type": "markdown",
   "id": "9d9bbd67-6c29-4fca-b3b4-984326021f0b",
   "metadata": {},
   "source": [
    "In Python, we use the Tkinter library to build GUI applications."
   ]
  },
  {
   "cell_type": "markdown",
   "id": "7759618f-88f9-40ef-911a-4daf99c1b0a0",
   "metadata": {},
   "source": [
    "##### Example of a simple GUI Interface that Recognizes Mouse Clicks and the Location of Each Click"
   ]
  },
  {
   "cell_type": "code",
   "execution_count": 50,
   "id": "bdc23ae2-d4f6-49b8-8ba3-94978fc69987",
   "metadata": {},
   "outputs": [
    {
     "ename": "NameError",
     "evalue": "name 'Button' is not defined",
     "output_type": "error",
     "traceback": [
      "\u001b[1;31m---------------------------------------------------------------------------\u001b[0m",
      "\u001b[1;31mNameError\u001b[0m                                 Traceback (most recent call last)",
      "Cell \u001b[1;32mIn[50], line 86\u001b[0m\n\u001b[0;32m     82\u001b[0m     label2\u001b[38;5;241m.\u001b[39mconfigure(text \u001b[38;5;241m=\u001b[39m \u001b[38;5;124mf\u001b[39m\u001b[38;5;124m'\u001b[39m\u001b[38;5;124mYou wrote \u001b[39m\u001b[38;5;132;01m{\u001b[39;00mtext2\u001b[38;5;241m.\u001b[39mget()\u001b[38;5;132;01m}\u001b[39;00m\u001b[38;5;124m'\u001b[39m)\n\u001b[0;32m     84\u001b[0m \u001b[38;5;66;03m# Create a button next to label2 labelled \"Enter\" in black text.\u001b[39;00m\n\u001b[0;32m     85\u001b[0m \u001b[38;5;66;03m# When you click this button, the function \"click_button\" is called (the 'command' argument)\u001b[39;00m\n\u001b[1;32m---> 86\u001b[0m button \u001b[38;5;241m=\u001b[39m \u001b[43mButton\u001b[49m(win, text \u001b[38;5;241m=\u001b[39m \u001b[38;5;124m\"\u001b[39m\u001b[38;5;124mEnter\u001b[39m\u001b[38;5;124m\"\u001b[39m, fg \u001b[38;5;241m=\u001b[39m \u001b[38;5;124m\"\u001b[39m\u001b[38;5;124mblack\u001b[39m\u001b[38;5;124m\"\u001b[39m, command\u001b[38;5;241m=\u001b[39mclick_button)\n\u001b[0;32m     87\u001b[0m button\u001b[38;5;241m.\u001b[39mgrid(row \u001b[38;5;241m=\u001b[39m \u001b[38;5;241m2\u001b[39m, column \u001b[38;5;241m=\u001b[39m \u001b[38;5;241m2\u001b[39m)\n\u001b[0;32m     89\u001b[0m \u001b[38;5;66;03m########################################################################################################\u001b[39;00m\n\u001b[0;32m     90\u001b[0m \u001b[38;5;66;03m# Tk.mainloop(): infinite loop used to run the code above, as long as the window is not closed.\u001b[39;00m\n\u001b[0;32m     91\u001b[0m \u001b[38;5;66;03m# It will wait for events to occur from the user (e.g. button click) and terminate when window is closed.\u001b[39;00m\n",
      "\u001b[1;31mNameError\u001b[0m: name 'Button' is not defined"
     ]
    }
   ],
   "source": [
    "# Create a window by creating an object of the class Tk\n",
    "win = tk.Tk()\n",
    "\n",
    "# Name the window\n",
    "win.title('Sample')\n",
    "\n",
    "# Set the geometry of the window in pixel units\n",
    "win.geometry(\"650x650\")\n",
    "\n",
    "######################################## Add widgets ################################################\n",
    "\n",
    "### 1. Clicking button in Canvas\n",
    "# Create a canvas - this is region in which the user interacts with the page.\n",
    "# You must call the method of the Canvas object \".grid\" to specify the location of the widget.\n",
    "# Otherwise the canvas won't show - the same is true for other widgets.\n",
    "canvas = tk.Canvas(win, width = \"400\", height = \"400\", bg = \"white\")\n",
    "canvas.grid(row = 1, column = 0, columnspan = 2)\n",
    "\n",
    "# Create a label at the top of the screen informing users to click mouse within the canvas\n",
    "label = tk.Label(win, text = \"Click the mouse within the canvas\")\n",
    "label.grid(row = 0, column = 0)\n",
    "\n",
    "\n",
    "# Functions associated with mouse clicks\n",
    "def activate_event(event):\n",
    "    \"\"\"\n",
    "    Parameters: \n",
    "    event (i.e. what the user does as per the .bind statement)\n",
    "\n",
    "    label.configure: updates the label \"Click the mouse within the canvas\" with info on\n",
    "    which mouse was clicked and the location in pixel units.\n",
    "    \"\"\"\n",
    "    print(f'Left mouse was clicked at: x = {event.x}, y = {event.y}')\n",
    "    label.configure(text = f'Left mouse was clicked at: x = {event.x}, y = {event.y}')\n",
    "\n",
    "def activate_event2(event):\n",
    "    \"\"\"\n",
    "    Parameters: \n",
    "    event (i.e. what the user does as per the .bind statement)\n",
    "\n",
    "    label.configure: updates the label \"Click the mouse within the canvas\" with info on\n",
    "    which mouse was clicked and the location in pixel units.\n",
    "    \"\"\"\n",
    "    print(f'Scroll mouse was clicked at: x = {event.x}, y = {event.y}')\n",
    "    label.configure(text = f'Scroll mouse was clicked at: x = {event.x}, y = {event.y}')\n",
    "\n",
    "def activate_event3(event):\n",
    "    \"\"\"\n",
    "    Parameters: \n",
    "    event (i.e. what the user does as per the .bind statement)\n",
    "\n",
    "    label.configure: updates the label \"Click the mouse within the canvas\" with info on\n",
    "    which mouse was clicked and the location in pixel units.\n",
    "    \"\"\"\n",
    "    print(f'Right mouse was clicked at: x = {event.x}, y = {event.y}')\n",
    "    label.configure(text = f'Right mouse was clicked at: x = {event.x}, y = {event.y}')\n",
    "\n",
    "\n",
    "# Associating the mouse clicks with the functions above\n",
    "win.bind('<Button-1>', activate_event) # 'Button-1' is the code for 'left mouse click'\n",
    "win.bind('<Button-2>', activate_event2) # 'Button-2' is the code for 'scroll mouse click'\n",
    "win.bind('<Button-3>', activate_event3) # 'Button-3' is the code for 'right mouse click'\n",
    "\n",
    "### 2. Buttons and entry boxes\n",
    "# Create another label at the bottom of the screen\n",
    "label2 = tk.Label(win, text = \"Type something here: \")\n",
    "label2.grid(row = 2, column = 0)\n",
    "\n",
    "# Create an entry box next to the label\n",
    "text2 = tk.Entry(win, width = 10)\n",
    "text2.grid(row = 2, column = 1)\n",
    "\n",
    "# Function associated with the button\n",
    "def click_button():\n",
    "    \"\"\"\n",
    "    Parameters: none - NOTE: If a function is linked to a Button, no 'event' parameter is needed\n",
    "                BUT if a function is linked to a bind command, an 'event' parameter is needed\n",
    "\n",
    "    label2.configure(text = '...'): revises label2 with the text\n",
    "    text2.get(): means get the text that was typed in the entry box. This is a method of the object Entry\n",
    "    \"\"\"\n",
    "    label2.configure(text = f'You wrote {text2.get()}')\n",
    "\n",
    "# Create a button next to label2 labelled \"Enter\" in black text.\n",
    "# When you click this button, the function \"click_button\" is called (the 'command' argument)\n",
    "button = tk.Button(win, text = \"Enter\", fg = \"black\", command=click_button)\n",
    "button.grid(row = 2, column = 2)\n",
    "\n",
    "########################################################################################################\n",
    "# Tk.mainloop(): infinite loop used to run the code above, as long as the window is not closed.\n",
    "# It will wait for events to occur from the user (e.g. button click) and terminate when window is closed.\n",
    "win.mainloop()"
   ]
  },
  {
   "cell_type": "markdown",
   "id": "fb42f29a-738f-45ee-9356-d8e63ce0c68e",
   "metadata": {},
   "source": [
    "Now let's build our GUI and implement our neural network model."
   ]
  },
  {
   "cell_type": "markdown",
   "id": "5d1920fc-c819-44f4-8c40-4d63ac48b444",
   "metadata": {},
   "source": [
    "Flowchart:\n",
    "1. Write a digit using your mouse - this will call out a function that will trace it with ink\n",
    "2. Click on 'Recognize Digit' button - this will call out a function that will recognize the digit drawn.\n",
    "3. Click on 'Clear Canvas' button - this will clear the digit drawn."
   ]
  },
  {
   "cell_type": "code",
   "execution_count": 33,
   "id": "cb3beff9-b5ba-4b80-a832-79a5e48b70a0",
   "metadata": {
    "scrolled": true
   },
   "outputs": [],
   "source": [
    "import pygetwindow\n",
    "import pyautogui\n",
    "from PIL import Image"
   ]
  },
  {
   "cell_type": "code",
   "execution_count": 47,
   "id": "9626ab2a-3836-4b6d-be88-10a1e77a7376",
   "metadata": {},
   "outputs": [],
   "source": [
    "# Create a window by creating an object of the class Tk\n",
    "gui = tk.Tk()\n",
    "\n",
    "# Name the window\n",
    "gui.title('Digit Recognizer')\n",
    "\n",
    "# Set the geometry of the window in pixel units\n",
    "gui.geometry(\"500x650\")\n",
    "\n",
    "######################################## Add widgets ################################################\n",
    "### 1. Define the Canvas\n",
    "canvas = tk.Canvas(gui, width = 500, height = 500, bg = \"black\")\n",
    "canvas.grid(row = 0, column = 0, columnspan = 2)\n",
    "\n",
    "\n",
    "### 2. Bind clicking the left mouse -> holding the left mouse -> function: draw_lines (from the Draw_fcns.py file)\n",
    "# Let's check if active1 actually works.\n",
    "def draw_lines(event):\n",
    "    \"\"\"\n",
    "    This function is called if the left mouse button is held down.\n",
    "    It takes the value of x and y-coordinates of the mouse from the previous iteration and creates\n",
    "    a line.\n",
    "    \"\"\"\n",
    "    global x_prev, y_prev\n",
    "    x, y = event.x, event.y\n",
    "    canvas.create_line(x_prev, y_prev, x, y, fill = \"white\", width = \"5\")\n",
    "    x_prev, y_prev = x, y\n",
    "\n",
    "\n",
    "def active1(event):\n",
    "    \"\"\"\n",
    "    This function is called when the left mouse is clicked.\n",
    "    The coordinates at which the left mouse was clicked are saved and distributed to the global scope.\n",
    "    (Seems like you can't return values from these handler functions)\n",
    "    \"\"\"\n",
    "    global x_prev, y_prev\n",
    "    x_prev = event.x\n",
    "    y_prev = event.y\n",
    "\n",
    "gui.bind('<Button-1>', active1) # 'Button-1' is the code for 'left mouse click'\n",
    "gui.bind('<B1-Motion>', draw_lines) # 'B1-Motion' is the code for 'left mouse held down'\n",
    "\n",
    "\n",
    "##### 3. Create a button to recognize the digit drawn.\n",
    "# Create a button labelled \"Recognize Digit\" in black text.\n",
    "# When you click this button, the function \"digit_recognize\" is called (the 'command' argument)\n",
    "def digit_recognize():\n",
    "    ########## 3a. Save an image of the canvas everytime you click on \"Digit Recognizer\"\n",
    "    # Get a list consisting of the names of all windows currently open.\n",
    "    title = pygetwindow.getAllTitles()\n",
    "\n",
    "    # Get the window with name \"Digit Recognizer\" - i.e. the window we created.\n",
    "    window = pygetwindow.getWindowsWithTitle('Digit Recognizer')\n",
    "\n",
    "    # Determine the coordinates of the top left corner of the window, (x0, y0)\n",
    "    x0 = (window[0].left)\n",
    "    y0 = (window[0].top)\n",
    "\n",
    "    # Determine the width and height of the canvas\n",
    "    cv_width = canvas.winfo_width()\n",
    "    cv_height = canvas.winfo_height()\n",
    "\n",
    "    # Determine the coordinates of the bottom right corner of the window, (x1, y1)\n",
    "    x1 = x0 + cv_width\n",
    "    y1 = y0 + cv_height\n",
    "\n",
    "    # Let's fix the coordinates of the top left corner to exclude the window bar.\n",
    "    y0 = y0 + 60\n",
    "    x0 = x0 + 20\n",
    "    \n",
    "    # Take a screenshot of your entire screen and save it in path\n",
    "    path = 'image1.png'\n",
    "    pyautogui.screenshot(path)\n",
    "\n",
    "    # Crop the image based on the coordinates of the window determined above.\n",
    "    im = Image.open(path)\n",
    "    im = im.crop((x0, y0, x1, y1))\n",
    "    im.save(path)\n",
    "    \n",
    "    # Convert the image into a 28 x 28 pixel image\n",
    "\n",
    "    # Predict the image using the existing model\n",
    "\n",
    "    # Create a box around the image and provide the predicted output on the canvas.\n",
    "    \n",
    "button = tk.Button(gui, text = \"Recognize Digit\", fg = \"black\", command=digit_recognize)\n",
    "button.grid(row = 1, column = 0)\n",
    "\n",
    "#### 4. Create a button to clear the canvas\n",
    "def clear():\n",
    "    pass\n",
    "\n",
    "button2 = tk.Button(gui, text = \"Clear Canvas\", fg = \"black\", command=clear)\n",
    "button2.grid(row = 1, column = 1)\n",
    "\n",
    "########################################################################################################\n",
    "# Tk.mainloop(): infinite loop used to run the code above, as long as the window is not closed.\n",
    "# It will wait for events to occur from the user (e.g. button click) and terminate when window is closed.\n",
    "gui.mainloop()"
   ]
  },
  {
   "cell_type": "code",
   "execution_count": null,
   "id": "9eda8952-a47e-437d-8c2a-0b5db9b2c046",
   "metadata": {},
   "outputs": [],
   "source": []
  }
 ],
 "metadata": {
  "kernelspec": {
   "display_name": "Python 3 (ipykernel)",
   "language": "python",
   "name": "python3"
  },
  "language_info": {
   "codemirror_mode": {
    "name": "ipython",
    "version": 3
   },
   "file_extension": ".py",
   "mimetype": "text/x-python",
   "name": "python",
   "nbconvert_exporter": "python",
   "pygments_lexer": "ipython3",
   "version": "3.11.4"
  }
 },
 "nbformat": 4,
 "nbformat_minor": 5
}
